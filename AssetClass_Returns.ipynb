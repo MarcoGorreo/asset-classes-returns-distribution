{
 "cells": [
  {
   "attachments": {},
   "cell_type": "markdown",
   "metadata": {},
   "source": [
    "# MATTER OF STUDY\n",
    "\n",
    "### Define the distribution of returns of major asset classes in the United States of America.\n",
     "### Identify its correlation with inflation and the value of the dollar against a basket of other currencies."
   ]
  },
  {
   "attachments": {},
   "cell_type": "markdown",
   "metadata": {},
   "source": [
    "# GATHERING DATA"
   ]
  },
  {
   "attachments": {},
   "cell_type": "markdown",
   "metadata": {},
   "source": [
    "## Downloading datasets regarding the following asset classes: \n",
    "\n",
    "* US Stocks\n",
    "* Cash\n",
    "* US Total Bond\n",
    "* Long-Term Corporate Bonds\n",
    "* REITS\n",
    "* Gold"
   ]
  },
  {
   "attachments": {},
   "cell_type": "markdown",
   "metadata": {},
   "source": [
    "## Data Sources: \n",
    "\n",
    "US STOCKS: \n",
    "\n",
    "AQR US MKT Factor Returns 1972-1992 (AQR Data Sets)\n",
    "Vanguard Total Stock Market Index Fund (VTSMX) 1993+\n",
    "\n",
    "CASH: \n",
    "\n",
    "3-month Treasury Bills (FRED Data) 1972+\n",
    "\n",
    "TOTAL BOND MARKET:\n",
    "\n",
    "Vanguard Total Bond Market Index Fund (VBMFX) 1987+\n",
    "\n",
    "LONG TERM CORPORATE BONDS:\n",
    "\n",
    "Vanguard Long-Term Investment Grade Fund (VWESX) 1974+\n",
    "\n",
    "GOLD: \n",
    "\n",
    "Gold Fixing Price in London Bullion Market 3:00 PM (London time) 1972-2004\n",
    "SPDR Gold Shares (GLD) 2005+\n",
    "\n",
    "REITS: \n",
    "\n",
    "DFA Real Estate Securities I (DFREX) 1994-1996\n",
    "Vanguard REIT Index Fund (VGSIX) 1997+"
   ]
  },
  {
   "attachments": {},
   "cell_type": "markdown",
   "metadata": {},
   "source": [
    "## Importing pandas to download dataset from HTML\n"
   ]
  },
  {
   "cell_type": "code",
   "execution_count": 2,
   "metadata": {},
   "outputs": [],
   "source": [
    "import pandas as pd"
   ]
  },
  {
   "attachments": {},
   "cell_type": "markdown",
   "metadata": {},
   "source": [
    "### Using pandas to read online data and importing "
   ]
  },
  {
   "cell_type": "code",
   "execution_count": 3,
   "metadata": {},
   "outputs": [],
   "source": [
    "url = \"https://www.portfoliovisualizer.com/historical-asset-class-returns\"\n",
    "asset_class_returns = pd.read_html(url)[0]"
   ]
  },
  {
   "attachments": {},
   "cell_type": "markdown",
   "metadata": {},
   "source": [
    "### Filtering the dataframe for the columns under study "
   ]
  },
  {
   "cell_type": "code",
   "execution_count": 4,
   "metadata": {},
   "outputs": [],
   "source": [
    "asset_class_returns = asset_class_returns[['Year', 'Inflation', 'US Stock Market', 'Cash', 'Total US Bond Market', 'Long-Term Corporate Bonds', 'REIT', 'Gold']]"
   ]
  },
  {
   "attachments": {},
   "cell_type": "markdown",
   "metadata": {},
   "source": [
    "### Dropping all years where datas is missing, then proceding to drop 2023 data which is incomplete "
   ]
  },
  {
   "cell_type": "code",
   "execution_count": 5,
   "metadata": {},
   "outputs": [],
   "source": [
    "asset_class_returns.dropna(inplace=True)\n",
    "asset_class_returns.drop(asset_class_returns.tail(2).index,inplace=True)"
   ]
  },
  {
   "attachments": {},
   "cell_type": "markdown",
   "metadata": {},
   "source": [
    "### We now have a clean dataset with all asset classes' returns over 1994 to 2022\n"
   ]
  },
  {
   "cell_type": "code",
   "execution_count": 6,
   "metadata": {},
   "outputs": [
    {
     "data": {
      "text/html": [
       "<div>\n",
       "<style scoped>\n",
       "    .dataframe tbody tr th:only-of-type {\n",
       "        vertical-align: middle;\n",
       "    }\n",
       "\n",
       "    .dataframe tbody tr th {\n",
       "        vertical-align: top;\n",
       "    }\n",
       "\n",
       "    .dataframe thead th {\n",
       "        text-align: right;\n",
       "    }\n",
       "</style>\n",
       "<table border=\"1\" class=\"dataframe\">\n",
       "  <thead>\n",
       "    <tr style=\"text-align: right;\">\n",
       "      <th></th>\n",
       "      <th>Year</th>\n",
       "      <th>Inflation</th>\n",
       "      <th>US Stock Market</th>\n",
       "      <th>Cash</th>\n",
       "      <th>Total US Bond Market</th>\n",
       "      <th>Long-Term Corporate Bonds</th>\n",
       "      <th>REIT</th>\n",
       "      <th>Gold</th>\n",
       "    </tr>\n",
       "  </thead>\n",
       "  <tbody>\n",
       "    <tr>\n",
       "      <th>24</th>\n",
       "      <td>2018</td>\n",
       "      <td>1.91%</td>\n",
       "      <td>-5.26%</td>\n",
       "      <td>1.90%</td>\n",
       "      <td>-0.13%</td>\n",
       "      <td>-5.95%</td>\n",
       "      <td>-6.11%</td>\n",
       "      <td>-1.94%</td>\n",
       "    </tr>\n",
       "    <tr>\n",
       "      <th>25</th>\n",
       "      <td>2019</td>\n",
       "      <td>2.29%</td>\n",
       "      <td>30.65%</td>\n",
       "      <td>2.13%</td>\n",
       "      <td>8.61%</td>\n",
       "      <td>20.41%</td>\n",
       "      <td>28.78%</td>\n",
       "      <td>17.86%</td>\n",
       "    </tr>\n",
       "    <tr>\n",
       "      <th>26</th>\n",
       "      <td>2020</td>\n",
       "      <td>1.36%</td>\n",
       "      <td>20.87%</td>\n",
       "      <td>0.44%</td>\n",
       "      <td>7.61%</td>\n",
       "      <td>15.36%</td>\n",
       "      <td>-4.78%</td>\n",
       "      <td>24.81%</td>\n",
       "    </tr>\n",
       "    <tr>\n",
       "      <th>27</th>\n",
       "      <td>2021</td>\n",
       "      <td>7.04%</td>\n",
       "      <td>25.59%</td>\n",
       "      <td>0.04%</td>\n",
       "      <td>-1.77%</td>\n",
       "      <td>-2.38%</td>\n",
       "      <td>40.19%</td>\n",
       "      <td>-4.15%</td>\n",
       "    </tr>\n",
       "    <tr>\n",
       "      <th>28</th>\n",
       "      <td>2022</td>\n",
       "      <td>6.45%</td>\n",
       "      <td>-19.60%</td>\n",
       "      <td>1.82%</td>\n",
       "      <td>-13.25%</td>\n",
       "      <td>-25.62%</td>\n",
       "      <td>-26.30%</td>\n",
       "      <td>-0.77%</td>\n",
       "    </tr>\n",
       "  </tbody>\n",
       "</table>\n",
       "</div>"
      ],
      "text/plain": [
       "    Year Inflation US Stock Market   Cash Total US Bond Market  \\\n",
       "24  2018     1.91%          -5.26%  1.90%               -0.13%   \n",
       "25  2019     2.29%          30.65%  2.13%                8.61%   \n",
       "26  2020     1.36%          20.87%  0.44%                7.61%   \n",
       "27  2021     7.04%          25.59%  0.04%               -1.77%   \n",
       "28  2022     6.45%         -19.60%  1.82%              -13.25%   \n",
       "\n",
       "   Long-Term Corporate Bonds     REIT    Gold  \n",
       "24                    -5.95%   -6.11%  -1.94%  \n",
       "25                    20.41%   28.78%  17.86%  \n",
       "26                    15.36%   -4.78%  24.81%  \n",
       "27                    -2.38%   40.19%  -4.15%  \n",
       "28                   -25.62%  -26.30%  -0.77%  "
      ]
     },
     "execution_count": 6,
     "metadata": {},
     "output_type": "execute_result"
    }
   ],
   "source": [
    "asset_class_returns = asset_class_returns.reset_index(drop=True)\n",
    "\n",
    "asset_class_returns.tail(5)"
   ]
  },
  {
   "attachments": {},
   "cell_type": "markdown",
   "metadata": {},
   "source": [
    "# DATA CLEANING\n",
    "\n",
    "### To work with the dataset it is necessary to clean it, \n",
    "### each recorded observation has the \"%\" symbol next to the number,\n",
    "### in order to work with it it's necessary to remove it"
   ]
  },
  {
   "cell_type": "code",
   "execution_count": 8,
   "metadata": {},
   "outputs": [],
   "source": [
    "for col in list(asset_class_returns.columns):\n",
    "    asset_class_returns[col] = asset_class_returns[col].str.replace(\"%\", \"\")"
   ]
  },
  {
   "attachments": {},
   "cell_type": "markdown",
   "metadata": {},
   "source": [
    "### Some valeus are strings, so it's necessary to convert them into numeric values\n"
   ]
  },
  {
   "cell_type": "code",
   "execution_count": 9,
   "metadata": {},
   "outputs": [],
   "source": [
    "asset_class_returns = asset_class_returns.astype(\"float64\")"
   ]
  },
  {
   "attachments": {},
   "cell_type": "markdown",
   "metadata": {},
   "source": [
    "# ANALYZING PHASE\n",
    "\n",
    "## Now that we have asset class returns over years it's important to convert adjust them for inflation\n",
    "\n",
    "### First creating a backup of our dataframe not adjusted for inflation, then we can modify the main dataframe."
   ]
  },
  {
   "cell_type": "code",
   "execution_count": 11,
   "metadata": {},
   "outputs": [],
   "source": [
    "asset_class_returns_not_adjusted = asset_class_returns\n",
    "\n",
    "columns = list(asset_class_returns.columns)[2:7]\n",
    "\n",
    "for col in list(columns):\n",
    "    for i in range(len(asset_class_returns)):\n",
    "        asset_class_returns[col][i] =  asset_class_returns[col][i] - asset_class_returns['Inflation'][i]"
   ]
  },
  {
   "attachments": {},
   "cell_type": "markdown",
   "metadata": {},
   "source": [
    "## We want to classify returns in ranges so that we can create distribution visualizations"
   ]
  },
  {
   "cell_type": "code",
   "execution_count": 13,
   "metadata": {},
   "outputs": [],
   "source": [
    "bins = [-float('inf'),-25, -20, -15, -10, -5, -2.5, 0, 2.5, 5, 10, 15, 20, 25, 30, float('inf')]\n",
    "labels_to_use = [\"-30\", \"-25\", \"-20\", \"-15\", \"-10\", \"-5\", \"-2.5\", \"0\", \"2.5\", \"5\", \"10\", \"15\", \"20\", \"25\", \"30\"]\n",
    "\n",
    "inflation_per_year = pd.cut(asset_class_returns['Inflation'], bins=bins, labels=labels_to_use)\n",
    "stocks_returns = pd.cut(asset_class_returns['US Stock Market'], bins=bins, labels=labels_to_use)\n",
    "cash_returns = pd.cut(asset_class_returns['Cash'], bins=bins, labels=labels_to_use)\n",
    "us_bonds_returns = pd.cut(asset_class_returns['Total US Bond Market'], bins=bins, labels=labels_to_use)\n",
    "corporate_bonds_returns = pd.cut(asset_class_returns['Long-Term Corporate Bonds'], bins=bins, labels=labels_to_use)\n",
    "reits_returns= pd.cut(asset_class_returns['REIT'], bins=bins, labels=labels_to_use)\n",
    "gold_returns = pd.cut(asset_class_returns['Gold'], bins=bins, labels=labels_to_use)\n",
    "\n",
    "def create_df(year,asset_class):\n",
    "    list_tuples = list(zip(year, asset_class))\n",
    "    df = pd.DataFrame(list_tuples, columns=['Year', 'Returns']).groupby(by='Returns', as_index=False).count()\n",
    "    df = df.astype(\"float64\")\n",
    "    df = df.sort_values('Returns',ascending=True)\n",
    "    df.rename(columns={'Year': 'Count'}, inplace=True)\n",
    "    df['Returns'] = df['Returns'].astype('string')\n",
    "\n",
    "    return df\n",
    "\n",
    "inflation_df = create_df(asset_class_returns['Year'], inflation_per_year)\n",
    "stocks_df = create_df(asset_class_returns['Year'], stocks_returns)\n",
    "cash_df = create_df(asset_class_returns['Year'], cash_returns)\n",
    "us_bonds_df = create_df(asset_class_returns['Year'], us_bonds_returns)\n",
    "corporate_bonds_df = create_df(asset_class_returns['Year'], corporate_bonds_returns)\n",
    "reits_df = create_df(asset_class_returns['Year'], reits_returns)\n",
    "gold_df = create_df(asset_class_returns['Year'], gold_returns)"
   ]
  },
  {
   "attachments": {},
   "cell_type": "markdown",
   "metadata": {},
   "source": [
    "# DATA VISUALIZATIONS \n",
    "\n",
    "## Importing libraries to create plots "
   ]
  },
  {
   "cell_type": "code",
   "execution_count": 14,
   "metadata": {},
   "outputs": [],
   "source": [
    "from matplotlib import pyplot as plt"
   ]
  },
  {
   "attachments": {},
   "cell_type": "markdown",
   "metadata": {},
   "source": [
    "## Creating plots for each asset class\n",
    "\n",
    "### Stocks"
   ]
  },
  {
   "cell_type": "code",
   "execution_count": 36,
   "metadata": {},
   "outputs": [
    {
     "data": {
      "image/png": "[encoded data removed]",
      "text/plain": [
       "<Figure size 936x720 with 1 Axes>"
      ]
     },
     "metadata": {
      "needs_background": "light"
     },
     "output_type": "display_data"
    }
   ],
   "source": [
    "plt.bar(stocks_df['Returns'], stocks_df['Count'], color=['red' if float(r) < 0 else 'green' for r in stocks_df['Returns']])\n",
    "plt.title('US stocks returns distribution')\n",
    "plt.rcParams['figure.figsize'] = [13, 10]\n",
    "plt.show()"
   ]
  },
  {
   "attachments": {},
   "cell_type": "markdown",
   "metadata": {},
   "source": [
    "### Cash "
   ]
  },
  {
   "cell_type": "code",
   "execution_count": 37,
   "metadata": {},
   "outputs": [
    {
     "data": {
      "image/png": "[encoded data removed]",
      "text/plain": [
       "<Figure size 936x720 with 1 Axes>"
      ]
     },
     "metadata": {
      "needs_background": "light"
     },
     "output_type": "display_data"
    }
   ],
   "source": [
    "plt.bar(cash_df['Returns'], cash_df['Count'], color=['red' if float(r) < 0 else 'green' for r in cash_df['Returns']])\n",
    "plt.title('Cash returns distribution')\n",
    "plt.rcParams['figure.figsize'] = [13, 10]\n",
    "plt.show()"
   ]
  },
  {
   "attachments": {},
   "cell_type": "markdown",
   "metadata": {},
   "source": [
    "### US Bonds"
   ]
  },
  {
   "cell_type": "code",
   "execution_count": 38,
   "metadata": {},
   "outputs": [
    {
     "data": {
      "image/png": "[encoded data removed]",
      "text/plain": [
       "<Figure size 936x720 with 1 Axes>"
      ]
     },
     "metadata": {
      "needs_background": "light"
     },
     "output_type": "display_data"
    }
   ],
   "source": [
    "plt.bar(us_bonds_df['Returns'], us_bonds_df['Count'], color=['red' if float(r) < 0 else 'green' for r in us_bonds_df['Returns']])\n",
    "plt.title('US bonds returns distribution')\n",
    "plt.rcParams['figure.figsize'] = [13, 10]\n",
    "plt.show()"
   ]
  },
  {
   "attachments": {},
   "cell_type": "markdown",
   "metadata": {},
   "source": [
    "### Corporate Bonds"
   ]
  },
  {
   "cell_type": "code",
   "execution_count": 39,
   "metadata": {},
   "outputs": [
    {
     "data": {
      "image/png": "[encoded data removed]",
      "text/plain": [
       "<Figure size 936x720 with 1 Axes>"
      ]
     },
     "metadata": {
      "needs_background": "light"
     },
     "output_type": "display_data"
    }
   ],
   "source": [
    "plt.bar(corporate_bonds_df['Returns'], corporate_bonds_df['Count'], color=['red' if float(r) < 0 else 'green' for r in corporate_bonds_df['Returns']])\n",
    "plt.title('Corporate bonds returns distribution')\n",
    "plt.rcParams['figure.figsize'] = [13, 10]\n",
    "plt.show()"
   ]
  },
  {
   "attachments": {},
   "cell_type": "markdown",
   "metadata": {},
   "source": [
    "### REITS"
   ]
  },
  {
   "cell_type": "code",
   "execution_count": 40,
   "metadata": {},
   "outputs": [
    {
     "data": {
      "image/png": "[encoded data removed]",
      "text/plain": [
       "<Figure size 936x720 with 1 Axes>"
      ]
     },
     "metadata": {
      "needs_background": "light"
     },
     "output_type": "display_data"
    }
   ],
   "source": [
    "plt.bar(reits_df['Returns'], reits_df['Count'], color=['red' if float(r) < 0 else 'green' for r in reits_df['Returns']])\n",
    "plt.title('REITS returns distribution')\n",
    "plt.rcParams['figure.figsize'] = [13, 10]\n",
    "plt.show()"
   ]
  },
  {
   "attachments": {},
   "cell_type": "markdown",
   "metadata": {},
   "source": [
    "### Gold\n"
   ]
  },
  {
   "cell_type": "code",
   "execution_count": 41,
   "metadata": {},
   "outputs": [
    {
     "data": {
      "image/png": "[encoded data removed]",
      "text/plain": [
       "<Figure size 936x720 with 1 Axes>"
      ]
     },
     "metadata": {
      "needs_background": "light"
     },
     "output_type": "display_data"
    }
   ],
   "source": [
    "plt.bar(gold_df['Returns'], gold_df['Count'], color=['red' if float(r) < 0 else 'green' for r in gold_df['Returns']])\n",
    "plt.title('Gold returns distribution')\n",
    "plt.rcParams['figure.figsize'] = [13, 10]\n",
    "plt.show()"
   ]
  },
  {
   "attachments": {},
   "cell_type": "markdown",
   "metadata": {},
   "source": [
    "## Now it's time to analyze correlation with inflation rates\n",
    "\n",
    "### Creating a table with each asset class correlation"
   ]
  },
  {
   "cell_type": "code",
   "execution_count": 42,
   "metadata": {},
   "outputs": [],
   "source": [
    "asset_class_returns_not_adjusted.drop('Year', axis=1, inplace=True)\n",
    "correlation_table = asset_class_returns_not_adjusted.corr().round(2)"
   ]
  },
  {
   "attachments": {},
   "cell_type": "markdown",
   "metadata": {},
   "source": [
    "### Stocks"
   ]
  },
  {
   "cell_type": "code",
   "execution_count": 43,
   "metadata": {},
   "outputs": [
    {
     "name": "stdout",
     "output_type": "stream",
     "text": [
      "Analyizing correlation between US Stock Market and other asset classes\n",
      "Inflation                   -0.08\n",
      "US Stock Market              1.00\n",
      "Cash                         0.05\n",
      "Total US Bond Market         0.24\n",
      "Long-Term Corporate Bonds    0.34\n",
      "REIT                         0.53\n",
      "Gold                        -0.05\n",
      "Name: US Stock Market, dtype: float64\n"
     ]
    },
    {
     "data": {
      "image/png": "[encoded data removed]",
      "text/plain": [
       "<Figure size 936x720 with 1 Axes>"
      ]
     },
     "metadata": {
      "needs_background": "light"
     },
     "output_type": "display_data"
    }
   ],
   "source": [
    "print(\"Analyizing correlation between US Stock Market and other asset classes\")\n",
    "\n",
    "correlation = correlation_table['US Stock Market']\n",
    "print(correlation)\n",
    "\n",
    "plt.scatter(asset_class_returns['US Stock Market'],asset_class_returns['Inflation'])\n",
    "plt.xlabel('Stocks Return')\n",
    "plt.ylabel('Inflation Rate')\n",
    "plt.rcParams['figure.figsize'] = [13, 10]\n",
    "plt.show()"
   ]
  },
  {
   "attachments": {},
   "cell_type": "markdown",
   "metadata": {},
   "source": [
    "### Cash"
   ]
  },
  {
   "cell_type": "code",
   "execution_count": 44,
   "metadata": {},
   "outputs": [
    {
     "name": "stdout",
     "output_type": "stream",
     "text": [
      "Analyizing correlation between cash and asset classes\n",
      "Inflation                   -0.50\n",
      "US Stock Market              0.05\n",
      "Cash                         1.00\n",
      "Total US Bond Market         0.58\n",
      "Long-Term Corporate Bonds    0.32\n",
      "REIT                        -0.11\n",
      "Gold                        -0.15\n",
      "Name: Cash, dtype: float64\n"
     ]
    },
    {
     "data": {
      "image/png": "[encoded data removed]",
      "text/plain": [
       "<Figure size 936x720 with 1 Axes>"
      ]
     },
     "metadata": {
      "needs_background": "light"
     },
     "output_type": "display_data"
    }
   ],
   "source": [
    "print(\"Analyizing correlation between cash and asset classes\")\n",
    "\n",
    "correlation = correlation_table['Cash']\n",
    "print(correlation)\n",
    "\n",
    "plt.scatter(asset_class_returns['Cash'],asset_class_returns['Inflation'])\n",
    "plt.xlabel('Cash Return')\n",
    "plt.ylabel('Inflation Rate')\n",
    "plt.rcParams['figure.figsize'] = [13, 10]\n",
    "plt.show()"
   ]
  },
  {
   "attachments": {},
   "cell_type": "markdown",
   "metadata": {},
   "source": [
    "### US Bonds"
   ]
  },
  {
   "cell_type": "code",
   "execution_count": 46,
   "metadata": {},
   "outputs": [
    {
     "name": "stdout",
     "output_type": "stream",
     "text": [
      "Analyizing correlation between US Bonds and asset classes\n",
      "Inflation                   -0.59\n",
      "US Stock Market              0.24\n",
      "Cash                         0.58\n",
      "Total US Bond Market         1.00\n",
      "Long-Term Corporate Bonds    0.92\n",
      "REIT                         0.26\n",
      "Gold                         0.21\n",
      "Name: Total US Bond Market, dtype: float64\n"
     ]
    },
    {
     "data": {
      "image/png": "[encoded data removed]",
      "text/plain": [
       "<Figure size 936x720 with 1 Axes>"
      ]
     },
     "metadata": {
      "needs_background": "light"
     },
     "output_type": "display_data"
    }
   ],
   "source": [
    "print(\"Analyizing correlation between US Bonds and asset classes\")\n",
    "\n",
    "correlation = correlation_table['Total US Bond Market']\n",
    "print(correlation)\n",
    "\n",
    "plt.scatter(asset_class_returns['Total US Bond Market'],asset_class_returns['Inflation'])\n",
    "plt.xlabel('US Bonds Return')\n",
    "plt.ylabel('Inflation Rate')\n",
    "plt.rcParams['figure.figsize'] = [13, 10]\n",
    "plt.show()"
   ]
  },
  {
   "attachments": {},
   "cell_type": "markdown",
   "metadata": {},
   "source": [
    "\n",
    "### Corporate Bonds"
   ]
  },
  {
   "cell_type": "code",
   "execution_count": 47,
   "metadata": {},
   "outputs": [
    {
     "name": "stdout",
     "output_type": "stream",
     "text": [
      "Analyizing correlation between Corporate Bonds and asset classes\n",
      "Inflation                   -0.53\n",
      "US Stock Market              0.34\n",
      "Cash                         0.32\n",
      "Total US Bond Market         0.92\n",
      "Long-Term Corporate Bonds    1.00\n",
      "REIT                         0.40\n",
      "Gold                         0.27\n",
      "Name: Long-Term Corporate Bonds, dtype: float64\n"
     ]
    },
    {
     "data": {
      "image/png": "[encoded data removed]",
      "text/plain": [
       "<Figure size 936x720 with 1 Axes>"
      ]
     },
     "metadata": {
      "needs_background": "light"
     },
     "output_type": "display_data"
    }
   ],
   "source": [
    "print(\"Analyizing correlation between Corporate Bonds and asset classes\")\n",
    "\n",
    "correlation = correlation_table['Long-Term Corporate Bonds']\n",
    "print(correlation)\n",
    "\n",
    "plt.scatter(asset_class_returns['Long-Term Corporate Bonds'],asset_class_returns['Inflation'])\n",
    "plt.xlabel('Corporate Bonds Return')\n",
    "plt.ylabel('Inflation Rate')\n",
    "plt.rcParams['figure.figsize'] = [13, 10]\n",
    "plt.show()\n"
   ]
  },
  {
   "attachments": {},
   "cell_type": "markdown",
   "metadata": {},
   "source": [
    "### REITS"
   ]
  },
  {
   "cell_type": "code",
   "execution_count": 48,
   "metadata": {},
   "outputs": [
    {
     "name": "stdout",
     "output_type": "stream",
     "text": [
      "Analyizing correlation between REITS and asset classes\n",
      "Inflation                    0.05\n",
      "US Stock Market              0.53\n",
      "Cash                        -0.11\n",
      "Total US Bond Market         0.26\n",
      "Long-Term Corporate Bonds    0.40\n",
      "REIT                         1.00\n",
      "Gold                         0.09\n",
      "Name: REIT, dtype: float64\n"
     ]
    },
    {
     "data": {
      "image/png": "[encoded data removed]",
      "text/plain": [
       "<Figure size 936x720 with 1 Axes>"
      ]
     },
     "metadata": {
      "needs_background": "light"
     },
     "output_type": "display_data"
    }
   ],
   "source": [
    "print(\"Analyizing correlation between REITS and asset classes\")\n",
    "\n",
    "correlation = correlation_table['REIT']\n",
    "print(correlation)\n",
    "\n",
    "plt.scatter(asset_class_returns['REIT'],asset_class_returns['Inflation'])\n",
    "plt.xlabel('REITS Return')\n",
    "plt.ylabel('Inflation Rate')\n",
    "plt.rcParams['figure.figsize'] = [13, 10]\n",
    "plt.show()"
   ]
  },
  {
   "attachments": {},
   "cell_type": "markdown",
   "metadata": {},
   "source": [
    "### Gold"
   ]
  },
  {
   "cell_type": "code",
   "execution_count": 50,
   "metadata": {},
   "outputs": [
    {
     "name": "stdout",
     "output_type": "stream",
     "text": [
      "Analyizing correlation between Gold and asset classes\n",
      "Inflation                    0.03\n",
      "US Stock Market             -0.05\n",
      "Cash                        -0.15\n",
      "Total US Bond Market         0.21\n",
      "Long-Term Corporate Bonds    0.27\n",
      "REIT                         0.09\n",
      "Gold                         1.00\n",
      "Name: Gold, dtype: float64\n"
     ]
    },
    {
     "data": {
      "image/png": "[encoded data removed]",
      "text/plain": [
       "<Figure size 936x720 with 1 Axes>"
      ]
     },
     "metadata": {
      "needs_background": "light"
     },
     "output_type": "display_data"
    }
   ],
   "source": [
    "print(\"Analyizing correlation between Gold and asset classes\")\n",
    "\n",
    "correlation = correlation_table['Gold']\n",
    "print(correlation)\n",
    "\n",
    "plt.scatter(asset_class_returns['Gold'],asset_class_returns['Inflation'])\n",
    "plt.xlabel('Gold Return')\n",
    "plt.ylabel('Inflation Rate')\n",
    "plt.rcParams['figure.figsize'] = [13, 10]\n",
    "plt.show()"
   ]
  },
  {
   "attachments": {},
   "cell_type": "markdown",
   "metadata": {},
   "source": [
    "# FINAL CONSIDERATIONS \n",
    "\n",
    "### From the elaborated graphs we can see that for many asset classes there is no clear correlation between inflation and returns. What is surprising above all is gold, known for being the safe haven asset par excellence, but the data show years with an high inflation,and less-than-satisfactory gold performance.\n",
    "\n",
    "### Not surprisingly, returns on corporate bonds appear to be highly correlated with those on the government bond market.\n",
    "### When the yield on treasuries increases, the risk premium required for corporate bonds increases.\n",
    "\n",
    "### The most important point of the research is the almost disappearance of a clear inverse relationship between stock and bond performance.\n",
    "### Bonds don't appear to be inversely correlated to the stock market in a long time, and that's due to central banks' use of interest rates over the years under observation."
   ]
  }
 ],
 "metadata": {
  "kernelspec": {
   "display_name": "Python 3",
   "language": "python",
   "name": "python3"
  },
  "language_info": {
   "name": "python",
   "version": "3.10.2"
  },
  "orig_nbformat": 4
 },
 "nbformat": 4,
 "nbformat_minor": 2
}
